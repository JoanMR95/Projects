{
 "cells": [
  {
   "cell_type": "markdown",
   "metadata": {
    "id": "F0lQ96vQxqJL"
   },
   "source": [
    "<h2 align=center>Análisis exploratorio de datos con Python y Pandas</h2>\n",
    "<!-- <img src=\"logo.png\"> -->"
   ]
  },
  {
   "cell_type": "markdown",
   "metadata": {
    "heading_collapsed": true,
    "id": "4kTbf5nCxqJP"
   },
   "source": [
    "### Librerías"
   ]
  },
  {
   "cell_type": "code",
   "execution_count": null,
   "metadata": {
    "scrolled": false
   },
   "outputs": [],
   "source": [
    "!pip install calmap\n",
    "!pip install pandas-profiling"
   ]
  },
  {
   "cell_type": "code",
   "execution_count": 2,
   "metadata": {
    "hidden": true,
    "id": "oEFzNyN4xqJQ"
   },
   "outputs": [],
   "source": [
    "import pandas as pd\n",
    "import numpy as np\n",
    "import matplotlib.pyplot as plt\n",
    "import seaborn as sns\n",
    "import calmap\n",
    "from pandas_profiling import ProfileReport"
   ]
  },
  {
   "cell_type": "markdown",
   "metadata": {
    "id": "AFco7775xqJQ"
   },
   "source": [
    "Enlace al set de datos: https://www.kaggle.com/aungpyaeap/supermarket-sales\n",
    "\n",
    "**Contexto**\n",
    "\n",
    "El crecimiento de los supermercados en la mayoría de las ciudades pobladas está aumentando y la competencia en el mercado también es alta. El conjunto de datos corresponde a una de las ventas históricas de la empresa de supermercados los cuales se han almacenado en 3 ramas diferentes para  datos de 3 meses.\n",
    "\n",
    "**Vocabulario de los features**\n",
    "\n",
    "1. ***Invoice id:*** Número de identificación de la factura generada por ordenador\n",
    "\n",
    "2. ***Branch:*** Sucursal del supercentro (existen 3 sucursales identificadas como A, B y C).\n",
    "\n",
    "3. ***City:*** Ubicación de los supercentros\n",
    "\n",
    "4. ***Customer type:***  Tipo de clientes, registrado como \"Members\" para los clientes que usan tarjeta de socio y \"Normal\" para los que no tienen tarjeta de socio.\n",
    "\n",
    "5. ***Gender:*** Tipo de género del cliente\n",
    "\n",
    "6. ***Product line:***  Grupos de categorización de artículos generales - Electronic accessories, Fashion accessories, Food and beverages, Health and beauty, Home and lifestyle, Sports and travel\n",
    "\n",
    "7. ***Unit price:***  Precio de cada producto en USD\n",
    "\n",
    "8. ***Quantity:*** Número de productos comprados por el cliente\n",
    "\n",
    "9. ***Tax:*** Impuesto del 5% sobre el total de la compra para el cliente\n",
    "\n",
    "10. ***Total:*** Precio total con impuestos incluidos\n",
    "\n",
    "11. ***Date:*** Fecha de compra (Registro disponible desde enero de 2019 hasta marzo de 2019)\n",
    "\n",
    "12. ***Time:*** Hora de la compra (de 10 am a 9 pm)\n",
    "\n",
    "13. ***Payment:*** Payment used by customer for purchase (3 methods are available – Cash, Credit card and Ewallet)\n",
    "\n",
    "14. ***COGS:***  Coste de la mercancía vendida\n",
    "\n",
    "15. ***Gross margin percentage:*** Porcentaje de margen bruto\n",
    "\n",
    "16. ***Gross income:*** Margen bruto\n",
    "\n",
    "17. ***Rating:*** Calificación de la estratificación de los clientes sobre su experiencia general de compra (En una escala de 1 a 10)"
   ]
  },
  {
   "cell_type": "markdown",
   "metadata": {
    "id": "tgnVVoLhxqJR"
   },
   "source": [
    "### Tarea 1: Exploración Inicial de datos"
   ]
  },
  {
   "cell_type": "code",
   "execution_count": null,
   "metadata": {},
   "outputs": [],
   "source": []
  },
  {
   "cell_type": "markdown",
   "metadata": {
    "id": "hpEFhfnJxqJR"
   },
   "source": [
    " "
   ]
  },
  {
   "cell_type": "markdown",
   "metadata": {
    "id": "ZH8N3YJ5xqJS"
   },
   "source": [
    "### Tarea 2: Análisis univariable"
   ]
  },
  {
   "cell_type": "markdown",
   "metadata": {
    "id": "u5QbQ03WxqJS"
   },
   "source": [
    "**Pregunta 1:** ¿Cómo es la distribución de las valoraciones de los clientes? ¿Está sesgada?"
   ]
  },
  {
   "cell_type": "code",
   "execution_count": null,
   "metadata": {
    "id": "V_rQAd7fxqJS",
    "scrolled": false
   },
   "outputs": [],
   "source": []
  },
  {
   "cell_type": "code",
   "execution_count": null,
   "metadata": {},
   "outputs": [],
   "source": []
  },
  {
   "cell_type": "markdown",
   "metadata": {
    "id": "7Beke9XIxqJS"
   },
   "source": [
    "**Pregunta 2:** ¿Las cifras de ventas totales difieren mucho entre las distintas sucursales?"
   ]
  },
  {
   "cell_type": "code",
   "execution_count": null,
   "metadata": {
    "id": "X1Z_YjsnxqJS"
   },
   "outputs": [],
   "source": []
  },
  {
   "cell_type": "markdown",
   "metadata": {
    "id": "18n-W620xqJS"
   },
   "source": [
    "  "
   ]
  },
  {
   "cell_type": "markdown",
   "metadata": {
    "id": "O4YkLpQYxqJT"
   },
   "source": [
    "### Tarea 3: Análisis bivariable"
   ]
  },
  {
   "cell_type": "markdown",
   "metadata": {
    "id": "IKXUWKZMxqJT"
   },
   "source": [
    "**Pregunta 3:** ¿Existe una relación entre los ingresos brutos y las valoraciones de los clientes?"
   ]
  },
  {
   "cell_type": "code",
   "execution_count": null,
   "metadata": {
    "id": "ZiSQvHDZxqJT"
   },
   "outputs": [],
   "source": []
  },
  {
   "cell_type": "markdown",
   "metadata": {
    "id": "cBQUE__bxqJT"
   },
   "source": [
    "**Pregunta 4:** ¿Existe alguna tendencia temporal notable en los ingresos brutos?"
   ]
  },
  {
   "cell_type": "code",
   "execution_count": null,
   "metadata": {
    "id": "3g74k5DbxqJT"
   },
   "outputs": [],
   "source": []
  },
  {
   "cell_type": "markdown",
   "metadata": {
    "id": "R-BwXcgzxqJT"
   },
   "source": [
    " "
   ]
  },
  {
   "cell_type": "markdown",
   "metadata": {
    "id": "ZtiATbjqxqJT"
   },
   "source": [
    "### Tarea 4: Cómo tratar las filas duplicadas y los valores perdidos"
   ]
  },
  {
   "cell_type": "code",
   "execution_count": null,
   "metadata": {
    "id": "eLN59oVYxqJU"
   },
   "outputs": [],
   "source": []
  },
  {
   "cell_type": "code",
   "execution_count": null,
   "metadata": {
    "id": "8C-4kkeaxqJU"
   },
   "outputs": [],
   "source": []
  },
  {
   "cell_type": "markdown",
   "metadata": {
    "id": "UbQvdEubxqJU"
   },
   "source": [
    " "
   ]
  },
  {
   "cell_type": "markdown",
   "metadata": {
    "id": "-VWGe1rvxqJU"
   },
   "source": [
    "### Tarea 5: Análisis de correlación"
   ]
  },
  {
   "cell_type": "code",
   "execution_count": null,
   "metadata": {
    "id": "RsEJasHVxqJU"
   },
   "outputs": [],
   "source": []
  },
  {
   "cell_type": "code",
   "execution_count": null,
   "metadata": {
    "id": "hqq8eqnRxqJU"
   },
   "outputs": [],
   "source": []
  },
  {
   "cell_type": "markdown",
   "metadata": {
    "id": "M4JEyKIcxqJU"
   },
   "source": [
    "### Enlaces de ayuda"
   ]
  },
  {
   "cell_type": "markdown",
   "metadata": {
    "id": "ZD9DsWuhxqJU"
   },
   "source": [
    "1. Mas visualizaciones: https://www.data-to-viz.com/\n",
    "2. Galería de Seaborn: https://seaborn.pydata.org/examples/index.html\n",
    "3. Documentación sobre pandas-profiling: https://pypi.org/project/pandas-profiling/"
   ]
  }
 ],
 "metadata": {
  "colab": {
   "name": "Notebook.ipynb",
   "provenance": [],
   "toc_visible": true
  },
  "kernelspec": {
   "display_name": "Python 3",
   "language": "python",
   "name": "python3"
  },
  "language_info": {
   "codemirror_mode": {
    "name": "ipython",
    "version": 3
   },
   "file_extension": ".py",
   "mimetype": "text/x-python",
   "name": "python",
   "nbconvert_exporter": "python",
   "pygments_lexer": "ipython3",
   "version": "3.8.5"
  }
 },
 "nbformat": 4,
 "nbformat_minor": 4
}
